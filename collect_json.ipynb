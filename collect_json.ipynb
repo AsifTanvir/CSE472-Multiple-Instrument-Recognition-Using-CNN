{
 "cells": [
  {
   "cell_type": "code",
   "execution_count": null,
   "metadata": {},
   "outputs": [],
   "source": [
    "import os\n",
    "import json\n",
    "import numpy as np"
   ]
  },
  {
   "cell_type": "code",
   "execution_count": null,
   "metadata": {},
   "outputs": [],
   "source": [
    "MFCC_PATH = os.path.join(os.getcwd(), 'mfcc')\n",
    "DATASET_PATH = os.path.join(os.getcwd(), 'audio')"
   ]
  },
  {
   "cell_type": "code",
   "execution_count": 5,
   "metadata": {
    "tags": []
   },
   "outputs": [],
   "source": [
    "mfccs = []\n",
    "for path, subdirs, files in os.walk(MFCC_PATH):\n",
    "    dir_name = path.split('/')[-1]\n",
    "    for f in files:\n",
    "        mfcc_path = os.path.join(path, f)\n",
    "        sample_key = f.split('.')[0]\n",
    "        # print(sample_key)\n",
    "        with open(mfcc_path, 'r') as mfcc_data:\n",
    "            json_mfcc = json.load(mfcc_data)\n",
    "            mfccs.append(json_mfcc['mfcc'])\n",
    "    if dir_name == '000':\n",
    "        break\n",
    "#mfccs"
   ]
  },
  {
   "cell_type": "code",
   "execution_count": 7,
   "metadata": {},
   "outputs": [
    {
     "data": {
      "text/plain": [
       "(2692,)"
      ]
     },
     "execution_count": 7,
     "metadata": {},
     "output_type": "execute_result"
    }
   ],
   "source": [
    "data = np.array(mfccs)\n",
    "data.shape"
   ]
  },
  {
   "cell_type": "code",
   "execution_count": 58,
   "metadata": {},
   "outputs": [
    {
     "data": {
      "text/plain": [
       "(132, 431, 13)"
      ]
     },
     "execution_count": 58,
     "metadata": {},
     "output_type": "execute_result"
    }
   ],
   "source": []
  },
  {
   "cell_type": "code",
   "execution_count": null,
   "metadata": {},
   "outputs": [],
   "source": []
  }
 ],
 "metadata": {
  "kernelspec": {
   "display_name": "Python 3",
   "language": "python",
   "name": "python3"
  },
  "language_info": {
   "codemirror_mode": {
    "name": "ipython",
    "version": 3
   },
   "file_extension": ".py",
   "mimetype": "text/x-python",
   "name": "python",
   "nbconvert_exporter": "python",
   "pygments_lexer": "ipython3",
   "version": "3.8.5"
  }
 },
 "nbformat": 4,
 "nbformat_minor": 2
}
