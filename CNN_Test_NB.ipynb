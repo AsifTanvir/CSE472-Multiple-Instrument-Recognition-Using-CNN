{
 "cells": [
  {
   "cell_type": "code",
   "execution_count": 99,
   "metadata": {},
   "outputs": [
    {
     "name": "stdout",
     "output_type": "stream",
     "text": [
      "/home/asif/Documents/Project/openmic-2018/mfcc\n"
     ]
    }
   ],
   "source": [
    "import json\n",
    "import os\n",
    "import numpy as np\n",
    "from sklearn.model_selection import train_test_split\n",
    "import tensorflow.keras as keras\n",
    "import matplotlib.pyplot as plt\n",
    "\n",
    "# path to json file that stores MFCCs and genre labels for each processed segment\n",
    "DATA_PATH = os.path.join(os.getcwd(), 'mfcc')\n",
    "print(DATA_PATH)"
   ]
  },
  {
   "cell_type": "code",
   "execution_count": 100,
   "metadata": {},
   "outputs": [],
   "source": [
    "def load_data(data_path):\n",
    "    \"\"\"Loads training dataset from json file.\n",
    "        :param data_path (str): Path to json file containing data\n",
    "        :return X (ndarray): Inputs\n",
    "        :return y (ndarray): Targets\n",
    "    \"\"\"\n",
    "\n",
    "    with open(data_path, \"r\") as fp:\n",
    "        data = json.load(fp)\n",
    "\n",
    "    # convert lists to numpy arrays\n",
    "    X = np.array(data[\"mfccs\"])\n",
    "    #y = np.array(data[\"labels\"])\n",
    "\n",
    "    print(\"Data succesfully loaded!\")\n",
    "\n",
    "    return  X"
   ]
  },
  {
   "cell_type": "code",
   "execution_count": null,
   "metadata": {},
   "outputs": [],
   "source": []
  },
  {
   "cell_type": "code",
   "execution_count": 101,
   "metadata": {},
   "outputs": [],
   "source": [
    "MFCC_PATH = os.path.join(os.getcwd(), 'mfcc')\n",
    "mfccs = []\n",
    "for path, subdirs, files in os.walk(MFCC_PATH):\n",
    "    dir_name = path.split('/')[-1]\n",
    "    for f in files:\n",
    "        mfcc_path = os.path.join(path, f)\n",
    "        sample_key = f.split('.')[0]\n",
    "        # print(sample_key)\n",
    "        with open(mfcc_path, 'r') as mfcc_data:\n",
    "            json_mfcc = json.load(mfcc_data)\n",
    "            mfccs.append(json_mfcc['mfcc'])\n",
    "    if dir_name == '000':\n",
    "        break\n"
   ]
  },
  {
   "cell_type": "code",
   "execution_count": 102,
   "metadata": {},
   "outputs": [
    {
     "name": "stdout",
     "output_type": "stream",
     "text": [
      "(2692,)\n"
     ]
    }
   ],
   "source": [
    "mfcc_data = np.array(mfccs)\n",
    "#mfcc_data = np.array(mfccs).reshape(132,431,13)\n",
    "print(mfcc_data.shape)"
   ]
  },
  {
   "cell_type": "code",
   "execution_count": 103,
   "metadata": {},
   "outputs": [],
   "source": [
    "def get_key(my_dict, val):\n",
    "    for key, value in my_dict.items():\n",
    "        if val == value:\n",
    "            return key\n",
    " \n",
    "    return \"key doesn't exist\""
   ]
  },
  {
   "cell_type": "code",
   "execution_count": 104,
   "metadata": {},
   "outputs": [],
   "source": [
    "with open(\"/home/asif/Documents/Project/openmic-2018/class-map.json\", \"r\") as fp:\n",
    "    label_map = json.load(fp)\n",
    "#label_map = np.array(data_map)\n"
   ]
  },
  {
   "cell_type": "code",
   "execution_count": 105,
   "metadata": {},
   "outputs": [
    {
     "name": "stdout",
     "output_type": "stream",
     "text": [
      "bass\n"
     ]
    }
   ],
   "source": [
    "instrument = get_key(label_map, 2)\n",
    "print(instrument)"
   ]
  },
  {
   "cell_type": "code",
   "execution_count": 106,
   "metadata": {},
   "outputs": [
    {
     "name": "stdout",
     "output_type": "stream",
     "text": [
      "Data succesfully loaded!\n",
      "(132, 431, 13)\n"
     ]
    }
   ],
   "source": [
    "#loadX= load_data(\"/home/asif/Documents/Project/openmic-2018/mfcc/000/000046_3840.json\")\n",
    "\n",
    "loadX_new = load_data(\"/home/asif/Documents/Project/openmic-2018/mfccs.json\")\n",
    "\n",
    "print(loadX_new.shape)"
   ]
  },
  {
   "cell_type": "code",
   "execution_count": 107,
   "metadata": {},
   "outputs": [
    {
     "name": "stdout",
     "output_type": "stream",
     "text": [
      "['X', 'Y_true', 'Y_mask', 'sample_key']\n"
     ]
    }
   ],
   "source": [
    "OPENMIC = np.load(os.path.join(os.getcwd(), 'openmic-2018.npz'))\n",
    "print(list(OPENMIC.keys()))"
   ]
  },
  {
   "cell_type": "code",
   "execution_count": 108,
   "metadata": {},
   "outputs": [
    {
     "name": "stdout",
     "output_type": "stream",
     "text": [
      "(132, 20)\n",
      "[[False False False ... False False False]\n",
      " [False False False ... False False  True]\n",
      " [ True False False ... False False False]\n",
      " ...\n",
      " [False False False ... False False  True]\n",
      " [False False False ... False False False]\n",
      " [False False False ... False False False]]\n",
      "[[0 0 0 ... 0 0 0]\n",
      " [0 0 0 ... 0 0 1]\n",
      " [1 0 0 ... 0 0 0]\n",
      " ...\n",
      " [0 0 0 ... 0 0 1]\n",
      " [0 0 0 ... 0 0 0]\n",
      " [0 0 0 ... 0 0 0]]\n",
      "(132, 10, 128)\n"
     ]
    }
   ],
   "source": [
    "Y_true = np.array(OPENMIC['Y_mask'])\n",
    "Y = Y_true[:132]\n",
    "print(Y.shape)\n",
    "len = Y.shape[0]\n",
    "Y_one = []\n",
    "Y_final = []\n",
    "for i in range(len):\n",
    "    Y_one.append(np.where(Y[i]))\n",
    "    Y_final.append(Y_one[i][0][0])\n",
    "Y_final = np.array(Y_final)\n",
    "#Y_final = Y_final.reshape(-1)\n",
    "#print(Y_one)\n",
    "print(Y)\n",
    "\n",
    "Y = Y.astype(int)\n",
    "print(Y)\n",
    "print(load_X_vgg.shape)"
   ]
  },
  {
   "cell_type": "code",
   "execution_count": null,
   "metadata": {},
   "outputs": [],
   "source": []
  },
  {
   "cell_type": "code",
   "execution_count": 109,
   "metadata": {},
   "outputs": [],
   "source": [
    "def build_model(input_shape, classes):\n",
    "    \"\"\"Generates CNN model\n",
    "    :param input_shape (tuple): Shape of input set\n",
    "    :classes: shape of output\n",
    "    :return model: CNN model\n",
    "    \"\"\"\n",
    "\n",
    "    # build network topology\n",
    "    model = keras.Sequential()\n",
    "\n",
    "    # 1st conv layer\n",
    "    model.add(keras.layers.Conv2D(16, (3, 3), activation='relu', input_shape=input_shape))\n",
    "    model.add(keras.layers.MaxPooling2D((3, 3), strides=(2, 2), padding='same'))\n",
    "    model.add(keras.layers.BatchNormalization())\n",
    "\n",
    "    # 2nd conv layer\n",
    "    model.add(keras.layers.Conv2D(32, (3, 3), activation='relu'))\n",
    "    model.add(keras.layers.MaxPooling2D((3, 3), strides=(2, 2), padding='same'))\n",
    "    model.add(keras.layers.BatchNormalization())\n",
    "\n",
    "    # 3rd conv layer\n",
    "    model.add(keras.layers.Conv2D(64, (2, 2), activation='relu'))\n",
    "    model.add(keras.layers.MaxPooling2D((2, 2), strides=(2, 2), padding='same'))\n",
    "    model.add(keras.layers.BatchNormalization())\n",
    "\n",
    "    # flatten output and feed it into dense layer\n",
    "    model.add(keras.layers.Flatten())\n",
    "    model.add(keras.layers.Dense(64, activation='relu'))\n",
    "    #model.add(keras.layers.Dropout(0.3))\n",
    "    model.add(keras.layers.Dense(64, activation='relu'))\n",
    "    #model.add(keras.layers.Dropout(0.3))\n",
    "\n",
    "    # output layer\n",
    "    model.add(keras.layers.Dense(classes, activation='sigmoid'))\n",
    "    #model.add(Dense(classes))\n",
    "    #model.add(Activation(finalAct))\n",
    "\n",
    "    return model"
   ]
  },
  {
   "cell_type": "code",
   "execution_count": 110,
   "metadata": {},
   "outputs": [],
   "source": [
    "def predict(model, X):\n",
    "    \"\"\"Predict a single sample using the trained model\n",
    "    :param model: Trained classifier\n",
    "    :param X: Input data\n",
    "    :param y (int): Target\n",
    "    \"\"\"\n",
    "\n",
    "    # add a dimension to input data for sample - model.predict() expects a 4d array in this case\n",
    "    X = X[np.newaxis, ...] # array shape (1, 130, 13, 1)\n",
    "\n",
    "    # perform prediction\n",
    "    prediction = model.predict(X)\n",
    "    #print(prediction)\n",
    "    # get index with max value\n",
    "    predicted_index = np.argsort(prediction[0])[:-11:-1] \n",
    "    #predicted_index = np.argmax(prediction, axis=1)\n",
    "    for i in range(10):\n",
    "        instrument = get_key(label_map, predicted_index[i])\n",
    "        print(\"{}\".format(instrument)+\" ({:.3})\".format(prediction[0][predicted_index[i]]))\n",
    "    \n",
    "    #print(\"Target: {}, Predicted label: {}\".format(y, instrument))\n",
    "    "
   ]
  },
  {
   "cell_type": "code",
   "execution_count": 111,
   "metadata": {},
   "outputs": [
    {
     "name": "stdout",
     "output_type": "stream",
     "text": [
      "132 431\n",
      "(99, 431, 13, 1) (33, 431, 13, 1) (99, 20) (33, 20)\n"
     ]
    }
   ],
   "source": [
    "X = loadX_new\n",
    "#X = load_X_vgg\n",
    "test_size, validation_size = 0.25, 0.2\n",
    "print(X.shape[0], X.shape[1])\n",
    "#X_train, X_test, y_train, y_test = train_test_split(X, Y, test_size=0.3)\n",
    "X_train, X_test, y_train, y_test = train_test_split(X, Y, test_size=test_size)\n",
    "#X_train, X_validation, y_train, y_validation = train_test_split(X_train, y_train, test_size=validation_size)\n",
    "\n",
    "# add an axis to input sets\n",
    "X_train = X_train[..., np.newaxis]\n",
    "#X_validation = X_validation[..., np.newaxis]\n",
    "X_test = X_test[..., np.newaxis]\n",
    "\n",
    "print(X_train.shape, X_test.shape, y_train.shape, y_test.shape )"
   ]
  },
  {
   "cell_type": "code",
   "execution_count": 112,
   "metadata": {},
   "outputs": [
    {
     "name": "stdout",
     "output_type": "stream",
     "text": [
      "(431, 13, 1)\n"
     ]
    }
   ],
   "source": [
    "input_shape = (X_train.shape[1], X_train.shape[2], 1)\n",
    "#input_shape = (431, 13, 1)\n",
    "print(input_shape)\n",
    "model = build_model(input_shape, Y.shape[1])"
   ]
  },
  {
   "cell_type": "code",
   "execution_count": 120,
   "metadata": {},
   "outputs": [
    {
     "name": "stdout",
     "output_type": "stream",
     "text": [
      "Model: \"sequential_11\"\n",
      "_________________________________________________________________\n",
      "Layer (type)                 Output Shape              Param #   \n",
      "=================================================================\n",
      "conv2d_29 (Conv2D)           (None, 429, 11, 16)       160       \n",
      "_________________________________________________________________\n",
      "max_pooling2d_26 (MaxPooling (None, 215, 6, 16)        0         \n",
      "_________________________________________________________________\n",
      "batch_normalization_26 (Batc (None, 215, 6, 16)        64        \n",
      "_________________________________________________________________\n",
      "conv2d_30 (Conv2D)           (None, 213, 4, 32)        4640      \n",
      "_________________________________________________________________\n",
      "max_pooling2d_27 (MaxPooling (None, 107, 2, 32)        0         \n",
      "_________________________________________________________________\n",
      "batch_normalization_27 (Batc (None, 107, 2, 32)        128       \n",
      "_________________________________________________________________\n",
      "conv2d_31 (Conv2D)           (None, 106, 1, 64)        8256      \n",
      "_________________________________________________________________\n",
      "max_pooling2d_28 (MaxPooling (None, 53, 1, 64)         0         \n",
      "_________________________________________________________________\n",
      "batch_normalization_28 (Batc (None, 53, 1, 64)         256       \n",
      "_________________________________________________________________\n",
      "flatten_7 (Flatten)          (None, 3392)              0         \n",
      "_________________________________________________________________\n",
      "dense_18 (Dense)             (None, 64)                217152    \n",
      "_________________________________________________________________\n",
      "dense_19 (Dense)             (None, 64)                4160      \n",
      "_________________________________________________________________\n",
      "dense_20 (Dense)             (None, 20)                1300      \n",
      "=================================================================\n",
      "Total params: 236,116\n",
      "Trainable params: 235,892\n",
      "Non-trainable params: 224\n",
      "_________________________________________________________________\n"
     ]
    }
   ],
   "source": [
    "optimiser = keras.optimizers.Adam(learning_rate=0.001)\n",
    "model.compile(optimizer=optimiser,\n",
    "              loss=\"binary_crossentropy\",\n",
    "              metrics=['accuracy'])\n",
    "\n",
    "model.summary()"
   ]
  },
  {
   "cell_type": "code",
   "execution_count": 118,
   "metadata": {
    "scrolled": false
   },
   "outputs": [
    {
     "name": "stdout",
     "output_type": "stream",
     "text": [
      "(99, 431, 13, 1) (33, 431, 13, 1) (99, 20) (33, 20)\n",
      "Epoch 1/50\n",
      "4/4 [==============================] - 0s 117ms/step - loss: 0.0042 - accuracy: 0.6566 - val_loss: 0.4510 - val_accuracy: 0.0606\n",
      "Epoch 2/50\n",
      "4/4 [==============================] - 0s 72ms/step - loss: 0.0045 - accuracy: 0.6364 - val_loss: 0.4541 - val_accuracy: 0.0606\n",
      "Epoch 3/50\n",
      "4/4 [==============================] - 0s 52ms/step - loss: 0.0071 - accuracy: 0.6364 - val_loss: 0.4571 - val_accuracy: 0.0606\n",
      "Epoch 4/50\n",
      "4/4 [==============================] - 0s 46ms/step - loss: 0.0048 - accuracy: 0.6162 - val_loss: 0.4607 - val_accuracy: 0.0606\n",
      "Epoch 5/50\n",
      "4/4 [==============================] - 0s 43ms/step - loss: 0.0049 - accuracy: 0.6465 - val_loss: 0.4641 - val_accuracy: 0.0606\n",
      "Epoch 6/50\n",
      "4/4 [==============================] - 0s 50ms/step - loss: 0.0046 - accuracy: 0.6263 - val_loss: 0.4670 - val_accuracy: 0.0606\n",
      "Epoch 7/50\n",
      "4/4 [==============================] - 0s 49ms/step - loss: 0.0052 - accuracy: 0.6263 - val_loss: 0.4697 - val_accuracy: 0.0606\n",
      "Epoch 8/50\n",
      "4/4 [==============================] - 0s 45ms/step - loss: 0.0042 - accuracy: 0.6566 - val_loss: 0.4721 - val_accuracy: 0.0606\n",
      "Epoch 9/50\n",
      "4/4 [==============================] - 0s 44ms/step - loss: 0.0041 - accuracy: 0.6364 - val_loss: 0.4758 - val_accuracy: 0.0606\n",
      "Epoch 10/50\n",
      "4/4 [==============================] - 0s 51ms/step - loss: 0.0043 - accuracy: 0.6667 - val_loss: 0.4791 - val_accuracy: 0.0606\n",
      "Epoch 11/50\n",
      "4/4 [==============================] - 0s 47ms/step - loss: 0.0039 - accuracy: 0.6465 - val_loss: 0.4823 - val_accuracy: 0.0606\n",
      "Epoch 12/50\n",
      "4/4 [==============================] - 0s 60ms/step - loss: 0.0048 - accuracy: 0.6667 - val_loss: 0.4855 - val_accuracy: 0.0606\n",
      "Epoch 13/50\n",
      "4/4 [==============================] - 0s 59ms/step - loss: 0.0040 - accuracy: 0.6566 - val_loss: 0.4889 - val_accuracy: 0.0303\n",
      "Epoch 14/50\n",
      "4/4 [==============================] - 0s 76ms/step - loss: 0.0041 - accuracy: 0.6263 - val_loss: 0.4926 - val_accuracy: 0.0303\n",
      "Epoch 15/50\n",
      "4/4 [==============================] - 0s 74ms/step - loss: 0.0043 - accuracy: 0.6364 - val_loss: 0.4952 - val_accuracy: 0.0303\n",
      "Epoch 16/50\n",
      "4/4 [==============================] - 0s 52ms/step - loss: 0.0038 - accuracy: 0.6566 - val_loss: 0.4982 - val_accuracy: 0.0303\n",
      "Epoch 17/50\n",
      "4/4 [==============================] - 0s 66ms/step - loss: 0.0038 - accuracy: 0.6465 - val_loss: 0.5011 - val_accuracy: 0.0606\n",
      "Epoch 18/50\n",
      "4/4 [==============================] - 0s 51ms/step - loss: 0.0051 - accuracy: 0.6566 - val_loss: 0.5042 - val_accuracy: 0.0606\n",
      "Epoch 19/50\n",
      "4/4 [==============================] - 0s 67ms/step - loss: 0.0045 - accuracy: 0.6566 - val_loss: 0.5074 - val_accuracy: 0.0606\n",
      "Epoch 20/50\n",
      "4/4 [==============================] - 0s 69ms/step - loss: 0.0044 - accuracy: 0.6465 - val_loss: 0.5104 - val_accuracy: 0.0606\n",
      "Epoch 21/50\n",
      "4/4 [==============================] - 0s 64ms/step - loss: 0.0042 - accuracy: 0.6364 - val_loss: 0.5134 - val_accuracy: 0.0606\n",
      "Epoch 22/50\n",
      "4/4 [==============================] - 0s 54ms/step - loss: 0.0041 - accuracy: 0.6566 - val_loss: 0.5163 - val_accuracy: 0.0606\n",
      "Epoch 23/50\n",
      "4/4 [==============================] - 0s 46ms/step - loss: 0.0061 - accuracy: 0.6263 - val_loss: 0.5196 - val_accuracy: 0.0606\n",
      "Epoch 24/50\n",
      "4/4 [==============================] - 0s 73ms/step - loss: 0.0040 - accuracy: 0.6667 - val_loss: 0.5222 - val_accuracy: 0.0606\n",
      "Epoch 25/50\n",
      "4/4 [==============================] - 0s 72ms/step - loss: 0.0040 - accuracy: 0.6465 - val_loss: 0.5247 - val_accuracy: 0.0606\n",
      "Epoch 26/50\n",
      "4/4 [==============================] - 0s 56ms/step - loss: 0.0038 - accuracy: 0.6566 - val_loss: 0.5277 - val_accuracy: 0.0606\n",
      "Epoch 27/50\n",
      "4/4 [==============================] - 0s 48ms/step - loss: 0.0045 - accuracy: 0.6364 - val_loss: 0.5313 - val_accuracy: 0.0606\n",
      "Epoch 28/50\n",
      "4/4 [==============================] - 0s 53ms/step - loss: 0.0040 - accuracy: 0.6768 - val_loss: 0.5337 - val_accuracy: 0.0606\n",
      "Epoch 29/50\n",
      "4/4 [==============================] - 0s 74ms/step - loss: 0.0039 - accuracy: 0.6263 - val_loss: 0.5361 - val_accuracy: 0.0909\n",
      "Epoch 30/50\n",
      "4/4 [==============================] - 0s 50ms/step - loss: 0.0047 - accuracy: 0.6566 - val_loss: 0.5399 - val_accuracy: 0.0909\n",
      "Epoch 31/50\n",
      "4/4 [==============================] - 0s 75ms/step - loss: 0.0046 - accuracy: 0.6566 - val_loss: 0.5415 - val_accuracy: 0.0909\n",
      "Epoch 32/50\n",
      "4/4 [==============================] - 0s 62ms/step - loss: 0.0051 - accuracy: 0.6364 - val_loss: 0.5448 - val_accuracy: 0.0909\n",
      "Epoch 33/50\n",
      "4/4 [==============================] - 0s 61ms/step - loss: 0.0045 - accuracy: 0.6566 - val_loss: 0.5471 - val_accuracy: 0.0909\n",
      "Epoch 34/50\n",
      "4/4 [==============================] - 0s 75ms/step - loss: 0.0042 - accuracy: 0.6465 - val_loss: 0.5491 - val_accuracy: 0.0909\n",
      "Epoch 35/50\n",
      "4/4 [==============================] - 0s 59ms/step - loss: 0.0042 - accuracy: 0.6566 - val_loss: 0.5511 - val_accuracy: 0.0909\n",
      "Epoch 36/50\n",
      "4/4 [==============================] - 0s 76ms/step - loss: 0.0041 - accuracy: 0.6465 - val_loss: 0.5538 - val_accuracy: 0.0909\n",
      "Epoch 37/50\n",
      "4/4 [==============================] - 0s 49ms/step - loss: 0.0041 - accuracy: 0.6364 - val_loss: 0.5559 - val_accuracy: 0.0909\n",
      "Epoch 38/50\n",
      "4/4 [==============================] - 0s 66ms/step - loss: 0.0041 - accuracy: 0.6364 - val_loss: 0.5578 - val_accuracy: 0.0909\n",
      "Epoch 39/50\n",
      "4/4 [==============================] - 0s 49ms/step - loss: 0.0038 - accuracy: 0.6364 - val_loss: 0.5600 - val_accuracy: 0.0909\n",
      "Epoch 40/50\n",
      "4/4 [==============================] - 0s 45ms/step - loss: 0.0041 - accuracy: 0.6364 - val_loss: 0.5621 - val_accuracy: 0.0909\n",
      "Epoch 41/50\n",
      "4/4 [==============================] - 0s 74ms/step - loss: 0.0039 - accuracy: 0.6768 - val_loss: 0.5645 - val_accuracy: 0.0909\n",
      "Epoch 42/50\n",
      "4/4 [==============================] - 0s 52ms/step - loss: 0.0039 - accuracy: 0.6566 - val_loss: 0.5663 - val_accuracy: 0.0909\n",
      "Epoch 43/50\n",
      "4/4 [==============================] - 0s 62ms/step - loss: 0.0045 - accuracy: 0.6869 - val_loss: 0.5686 - val_accuracy: 0.0909\n",
      "Epoch 44/50\n",
      "4/4 [==============================] - 0s 70ms/step - loss: 0.0042 - accuracy: 0.6263 - val_loss: 0.5711 - val_accuracy: 0.0909\n",
      "Epoch 45/50\n",
      "4/4 [==============================] - 0s 57ms/step - loss: 0.0037 - accuracy: 0.6465 - val_loss: 0.5729 - val_accuracy: 0.0606\n",
      "Epoch 46/50\n",
      "4/4 [==============================] - 0s 62ms/step - loss: 0.0040 - accuracy: 0.6162 - val_loss: 0.5745 - val_accuracy: 0.0909\n",
      "Epoch 47/50\n",
      "4/4 [==============================] - 0s 81ms/step - loss: 0.0048 - accuracy: 0.6566 - val_loss: 0.5763 - val_accuracy: 0.0909\n",
      "Epoch 48/50\n",
      "4/4 [==============================] - 0s 47ms/step - loss: 0.0057 - accuracy: 0.6667 - val_loss: 0.5761 - val_accuracy: 0.0909\n",
      "Epoch 49/50\n",
      "4/4 [==============================] - 0s 66ms/step - loss: 0.0055 - accuracy: 0.6869 - val_loss: 0.5772 - val_accuracy: 0.0909\n",
      "Epoch 50/50\n",
      "4/4 [==============================] - 0s 59ms/step - loss: 0.0043 - accuracy: 0.6364 - val_loss: 0.5789 - val_accuracy: 0.0909\n"
     ]
    }
   ],
   "source": [
    "print(X_train.shape, X_test.shape, y_train.shape, y_test.shape )\n",
    "history = model.fit(X_train, y_train, validation_data=(X_test, y_test), batch_size=32, epochs=50)\n"
   ]
  },
  {
   "cell_type": "code",
   "execution_count": null,
   "metadata": {},
   "outputs": [],
   "source": []
  },
  {
   "cell_type": "code",
   "execution_count": 115,
   "metadata": {},
   "outputs": [
    {
     "name": "stdout",
     "output_type": "stream",
     "text": [
      "accordion (0.101)\n",
      "violin (0.0846)\n",
      "mandolin (0.0659)\n",
      "clarinet (0.0645)\n",
      "ukulele (0.0511)\n",
      "trumpet (0.0452)\n",
      "saxophone (0.0358)\n",
      "mallet_percussion (0.0334)\n",
      "voice (0.0215)\n",
      "banjo (0.0128)\n"
     ]
    }
   ],
   "source": [
    "X_to_predict = X_test[9]\n",
    "y_to_predict = y_test[9]\n",
    "\n",
    "# predict 10 possible instruments\n",
    "predict(model, X_to_predict)"
   ]
  },
  {
   "cell_type": "code",
   "execution_count": 116,
   "metadata": {},
   "outputs": [
    {
     "name": "stdout",
     "output_type": "stream",
     "text": [
      "accordion\n",
      "clarinet\n"
     ]
    }
   ],
   "source": [
    "#print(y_to_predict.shape)\n",
    "for i in range(20):\n",
    "    if y_to_predict[i] == 1:\n",
    "        print(get_key(label_map, i))"
   ]
  },
  {
   "cell_type": "code",
   "execution_count": 191,
   "metadata": {},
   "outputs": [
    {
     "name": "stdout",
     "output_type": "stream",
     "text": [
      "[False False  True ... False False False]\n",
      "[False False False ... False False False]\n",
      "[False False False ... False False False]\n",
      "[False False False ... False False False]\n",
      "[ True False False ... False False False]\n",
      "[False False False ... False False False]\n",
      "[False False False ... False False False]\n",
      "[ True False False ... False False False]\n",
      "[False False False ... False False False]\n",
      "[False False False ... False False False]\n",
      "[False False False ... False False False]\n",
      "[False False False ... False False False]\n",
      "[False False False ... False False False]\n",
      "[False  True False ...  True  True  True]\n",
      "[False False False ... False False False]\n",
      "[False False False ...  True False  True]\n",
      "[ True  True False ... False False  True]\n",
      "[False False False ... False False False]\n",
      "[False False False ... False False False]\n",
      "[False  True False ... False False False]\n"
     ]
    }
   ],
   "source": [
    "Y_mask = np.array(OPENMIC['Y_mask'])\n",
    "for instrument in label_map:\n",
    "    \n",
    "    # Map the instrument name to its column number\n",
    "    inst_num = label_map[instrument]\n",
    "        \n",
    "    # Step 1: sub-sample the data\n",
    "    \n",
    "    # First, we need to select down to the data for which we have annotations\n",
    "    # This is what the mask arrays are for\n",
    "    train_inst = Y_mask[:, inst_num]\n",
    "    print(train_inst)\n"
   ]
  },
  {
   "cell_type": "code",
   "execution_count": null,
   "metadata": {},
   "outputs": [],
   "source": [
    "\n",
    "\n"
   ]
  },
  {
   "cell_type": "code",
   "execution_count": 119,
   "metadata": {},
   "outputs": [
    {
     "name": "stdout",
     "output_type": "stream",
     "text": [
      "2/2 - 0s - loss: 0.5789 - accuracy: 0.0909\n",
      "\n",
      "Test accuracy: 0.09090909361839294\n"
     ]
    }
   ],
   "source": [
    "test_loss, test_acc = model.evaluate(X_test, y_test, verbose=2)\n",
    "print('\\nTest accuracy:', test_acc)"
   ]
  },
  {
   "cell_type": "code",
   "execution_count": null,
   "metadata": {},
   "outputs": [],
   "source": []
  }
 ],
 "metadata": {
  "kernelspec": {
   "display_name": "Python 3",
   "language": "python",
   "name": "python3"
  },
  "language_info": {
   "codemirror_mode": {
    "name": "ipython",
    "version": 3
   },
   "file_extension": ".py",
   "mimetype": "text/x-python",
   "name": "python",
   "nbconvert_exporter": "python",
   "pygments_lexer": "ipython3",
   "version": "3.8.5"
  }
 },
 "nbformat": 4,
 "nbformat_minor": 4
}
